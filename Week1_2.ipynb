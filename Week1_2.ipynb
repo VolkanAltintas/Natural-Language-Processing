{
  "nbformat": 4,
  "nbformat_minor": 0,
  "metadata": {
    "colab": {
      "provenance": [],
      "authorship_tag": "ABX9TyPbpUJ/HW4kDKTqzP6xYo5r"
    },
    "kernelspec": {
      "name": "python3",
      "display_name": "Python 3"
    },
    "language_info": {
      "name": "python"
    }
  },
  "cells": [
    {
      "cell_type": "code",
      "execution_count": 1,
      "metadata": {
        "colab": {
          "base_uri": "https://localhost:8080/"
        },
        "id": "HqPiQZgPCppP",
        "outputId": "ddea158e-6ac5-4875-c7a9-5d27bef773c2"
      },
      "outputs": [
        {
          "output_type": "stream",
          "name": "stdout",
          "text": [
            "2\n",
            "Hello World\n"
          ]
        }
      ],
      "source": [
        "x='2'\n",
        "y=4\n",
        "z=4.5\n",
        "text=\"Hello World\"\n",
        "\n",
        "print(x)\n",
        "print(text)"
      ]
    },
    {
      "cell_type": "code",
      "source": [
        "type(z)"
      ],
      "metadata": {
        "colab": {
          "base_uri": "https://localhost:8080/"
        },
        "id": "Z4CBkjo6CyQG",
        "outputId": "8c9d2edd-624b-4147-b6dc-64a01526a793"
      },
      "execution_count": 2,
      "outputs": [
        {
          "output_type": "execute_result",
          "data": {
            "text/plain": [
              "float"
            ]
          },
          "metadata": {},
          "execution_count": 2
        }
      ]
    },
    {
      "cell_type": "code",
      "source": [
        "x=y=1\n",
        "print(x,y)"
      ],
      "metadata": {
        "colab": {
          "base_uri": "https://localhost:8080/"
        },
        "id": "TG0wx2l_C360",
        "outputId": "ca79c47b-a276-4710-d095-7be11795d729"
      },
      "execution_count": 3,
      "outputs": [
        {
          "output_type": "stream",
          "name": "stdout",
          "text": [
            "1 1\n"
          ]
        }
      ]
    },
    {
      "cell_type": "code",
      "source": [
        "5+7"
      ],
      "metadata": {
        "colab": {
          "base_uri": "https://localhost:8080/"
        },
        "id": "fWrwUcsNC6Bv",
        "outputId": "0ffc665f-6631-4847-9808-3ea6303c5c20"
      },
      "execution_count": 4,
      "outputs": [
        {
          "output_type": "execute_result",
          "data": {
            "text/plain": [
              "12"
            ]
          },
          "metadata": {},
          "execution_count": 4
        }
      ]
    },
    {
      "cell_type": "code",
      "source": [
        "21%5"
      ],
      "metadata": {
        "colab": {
          "base_uri": "https://localhost:8080/"
        },
        "id": "tKNcCmkTC84R",
        "outputId": "8e1c9051-8cbb-4cf1-c06f-410975dd5631"
      },
      "execution_count": 5,
      "outputs": [
        {
          "output_type": "execute_result",
          "data": {
            "text/plain": [
              "1"
            ]
          },
          "metadata": {},
          "execution_count": 5
        }
      ]
    },
    {
      "cell_type": "code",
      "source": [
        "number=1"
      ],
      "metadata": {
        "id": "n_MGEiBDC_LO"
      },
      "execution_count": 6,
      "outputs": []
    },
    {
      "cell_type": "code",
      "source": [
        "number==1"
      ],
      "metadata": {
        "colab": {
          "base_uri": "https://localhost:8080/"
        },
        "id": "pJ_RmHQZDEVz",
        "outputId": "9363d10a-2e10-40b1-87ea-a7e0439176ee"
      },
      "execution_count": 7,
      "outputs": [
        {
          "output_type": "execute_result",
          "data": {
            "text/plain": [
              "True"
            ]
          },
          "metadata": {},
          "execution_count": 7
        }
      ]
    },
    {
      "cell_type": "code",
      "source": [
        "number>1"
      ],
      "metadata": {
        "colab": {
          "base_uri": "https://localhost:8080/"
        },
        "id": "SrZc8Wm-DFQi",
        "outputId": "b815e21e-48cd-4166-aaee-f8ab9747a7cf"
      },
      "execution_count": 8,
      "outputs": [
        {
          "output_type": "execute_result",
          "data": {
            "text/plain": [
              "False"
            ]
          },
          "metadata": {},
          "execution_count": 8
        }
      ]
    },
    {
      "cell_type": "code",
      "source": [
        "(number<3) and (number>0)"
      ],
      "metadata": {
        "colab": {
          "base_uri": "https://localhost:8080/"
        },
        "id": "Nrfc7HpeDHR1",
        "outputId": "e3d5bc47-a2e4-4ad9-b5a6-abb2091dafd8"
      },
      "execution_count": 9,
      "outputs": [
        {
          "output_type": "execute_result",
          "data": {
            "text/plain": [
              "True"
            ]
          },
          "metadata": {},
          "execution_count": 9
        }
      ]
    },
    {
      "cell_type": "code",
      "source": [
        "a=1\n",
        "print(a==1)\n",
        "print(a>5)"
      ],
      "metadata": {
        "colab": {
          "base_uri": "https://localhost:8080/"
        },
        "id": "-ioxOYOYDJR4",
        "outputId": "9a0b3cd9-a39e-46fe-eac7-5c95cf4119ce"
      },
      "execution_count": 10,
      "outputs": [
        {
          "output_type": "stream",
          "name": "stdout",
          "text": [
            "True\n",
            "False\n"
          ]
        }
      ]
    },
    {
      "cell_type": "code",
      "source": [
        "print(round(4.548787))\n",
        "print(round(4.54879, 2))\n",
        "print(round(4.448787))"
      ],
      "metadata": {
        "colab": {
          "base_uri": "https://localhost:8080/"
        },
        "id": "DgHi98vTDMM-",
        "outputId": "4f833e30-afb7-4fb8-ac65-e077d6919c0f"
      },
      "execution_count": 11,
      "outputs": [
        {
          "output_type": "stream",
          "name": "stdout",
          "text": [
            "5\n",
            "4.55\n",
            "4\n"
          ]
        }
      ]
    },
    {
      "cell_type": "code",
      "source": [
        "print(\"Manisa Celal Bayar University\")"
      ],
      "metadata": {
        "colab": {
          "base_uri": "https://localhost:8080/"
        },
        "id": "cXXOTXdWDT8a",
        "outputId": "c141abd1-d9db-4e25-c51b-bd083677cf82"
      },
      "execution_count": 12,
      "outputs": [
        {
          "output_type": "stream",
          "name": "stdout",
          "text": [
            "Manisa Celal Bayar University\n"
          ]
        }
      ]
    },
    {
      "cell_type": "code",
      "source": [
        "print('''Manisa\n",
        "Celal Bayar University''')"
      ],
      "metadata": {
        "colab": {
          "base_uri": "https://localhost:8080/"
        },
        "id": "iltqZWvYDUtw",
        "outputId": "2ce983fb-f14a-4fb2-82df-fc7ff8d94249"
      },
      "execution_count": 13,
      "outputs": [
        {
          "output_type": "stream",
          "name": "stdout",
          "text": [
            "Manisa\n",
            "Celal Bayar University\n"
          ]
        }
      ]
    },
    {
      "cell_type": "code",
      "source": [
        "print ('''Manisa Celal Bayar University\n",
        "Faculty of Engineering\n",
        "Computer Engineering''')"
      ],
      "metadata": {
        "colab": {
          "base_uri": "https://localhost:8080/"
        },
        "id": "6CsYWVeWDlO2",
        "outputId": "044ad0a7-55b2-4a02-f892-bd2a11e3c8fe"
      },
      "execution_count": 16,
      "outputs": [
        {
          "output_type": "stream",
          "name": "stdout",
          "text": [
            "Manisa Celal Bayar University\n",
            "Faculty of Engineering\n",
            "Computer Engineering\n"
          ]
        }
      ]
    },
    {
      "cell_type": "code",
      "source": [
        "data=input(\"Enter text....\")"
      ],
      "metadata": {
        "colab": {
          "base_uri": "https://localhost:8080/"
        },
        "id": "Hn7aRC6eDXFn",
        "outputId": "27b542a9-8677-41fe-ad2f-d53d89fc0c55"
      },
      "execution_count": 14,
      "outputs": [
        {
          "name": "stdout",
          "output_type": "stream",
          "text": [
            "Enter text....MErhaba\n"
          ]
        }
      ]
    },
    {
      "cell_type": "code",
      "source": [
        "print(type(data))\n",
        "print(type(12.5))"
      ],
      "metadata": {
        "colab": {
          "base_uri": "https://localhost:8080/"
        },
        "id": "nBIVshTlDeHM",
        "outputId": "634ceae9-fbbb-4c7f-c440-b7c3de7101a9"
      },
      "execution_count": 15,
      "outputs": [
        {
          "output_type": "stream",
          "name": "stdout",
          "text": [
            "<class 'str'>\n",
            "<class 'float'>\n"
          ]
        }
      ]
    },
    {
      "cell_type": "code",
      "source": [
        "def sum(x,y):\n",
        "  return x+y\n",
        "\n",
        "print(sum(3,5))"
      ],
      "metadata": {
        "colab": {
          "base_uri": "https://localhost:8080/"
        },
        "id": "VHICjuezDiOU",
        "outputId": "44f76cdc-743e-46ee-d929-f1a97a2f38b8"
      },
      "execution_count": 17,
      "outputs": [
        {
          "output_type": "stream",
          "name": "stdout",
          "text": [
            "8\n"
          ]
        }
      ]
    },
    {
      "cell_type": "code",
      "source": [
        "lst=[]\n",
        "aList=['Computer','Telephone','TV']\n",
        "print(aList)"
      ],
      "metadata": {
        "colab": {
          "base_uri": "https://localhost:8080/"
        },
        "id": "_B-ox07uDrac",
        "outputId": "54583f66-6322-4ef6-ac7d-b6f2af54c17a"
      },
      "execution_count": 18,
      "outputs": [
        {
          "output_type": "stream",
          "name": "stdout",
          "text": [
            "['Computer', 'Telephone', 'TV']\n"
          ]
        }
      ]
    },
    {
      "cell_type": "code",
      "source": [
        "print(aList[0])\n",
        "print(aList[2])\n",
        "print(aList[-3])"
      ],
      "metadata": {
        "colab": {
          "base_uri": "https://localhost:8080/"
        },
        "id": "WahlPO6XDyPQ",
        "outputId": "3f9eff94-f6bf-4ec2-b1f4-c6e94fe5d212"
      },
      "execution_count": 19,
      "outputs": [
        {
          "output_type": "stream",
          "name": "stdout",
          "text": [
            "Computer\n",
            "TV\n",
            "Computer\n"
          ]
        }
      ]
    },
    {
      "cell_type": "code",
      "source": [
        "bList=['Keyboard','Wifi','Mouse']"
      ],
      "metadata": {
        "id": "no_ry_ZfDz7R"
      },
      "execution_count": 20,
      "outputs": []
    },
    {
      "cell_type": "code",
      "source": [
        "cList=[aList,bList]\n",
        "print(cList)\n",
        "print(cList[0][2])\n",
        "print(cList[1][2])"
      ],
      "metadata": {
        "colab": {
          "base_uri": "https://localhost:8080/"
        },
        "id": "ucAB6kBfD7Zb",
        "outputId": "791c9c3c-49ad-4f88-f80c-adb8ad69b99a"
      },
      "execution_count": 21,
      "outputs": [
        {
          "output_type": "stream",
          "name": "stdout",
          "text": [
            "[['Computer', 'Telephone', 'TV'], ['Keyboard', 'Wifi', 'Mouse']]\n",
            "TV\n",
            "Mouse\n"
          ]
        }
      ]
    },
    {
      "cell_type": "code",
      "source": [
        "print(cList[0][1])\n",
        "print(cList[1][1])"
      ],
      "metadata": {
        "colab": {
          "base_uri": "https://localhost:8080/"
        },
        "id": "ni6uQFicD9CN",
        "outputId": "be3211da-99c0-449c-ebbd-2cd5e3112f2c"
      },
      "execution_count": 22,
      "outputs": [
        {
          "output_type": "stream",
          "name": "stdout",
          "text": [
            "Telephone\n",
            "Wifi\n"
          ]
        }
      ]
    },
    {
      "cell_type": "code",
      "source": [
        "numbers=[1,2,3,4,5,6,7,8,9]"
      ],
      "metadata": {
        "id": "LI2dtD8NECYS"
      },
      "execution_count": 23,
      "outputs": []
    },
    {
      "cell_type": "code",
      "source": [
        "print(numbers[:])# all list\n",
        "print(numbers[2:])\n",
        "print(numbers[:4])\n",
        "print(numbers[1:4])\n",
        "print(numbers[::2])"
      ],
      "metadata": {
        "colab": {
          "base_uri": "https://localhost:8080/"
        },
        "id": "uLAgxAUlEF3V",
        "outputId": "835617d4-a968-411e-ff28-0c17d71cf2fc"
      },
      "execution_count": 24,
      "outputs": [
        {
          "output_type": "stream",
          "name": "stdout",
          "text": [
            "[1, 2, 3, 4, 5, 6, 7, 8, 9]\n",
            "[3, 4, 5, 6, 7, 8, 9]\n",
            "[1, 2, 3, 4]\n",
            "[2, 3, 4]\n",
            "[1, 3, 5, 7, 9]\n"
          ]
        }
      ]
    },
    {
      "cell_type": "code",
      "source": [
        "len(numbers)"
      ],
      "metadata": {
        "colab": {
          "base_uri": "https://localhost:8080/"
        },
        "id": "nqPQM9lHEItz",
        "outputId": "3994cd25-8bf2-4d35-946f-3705c538080e"
      },
      "execution_count": 25,
      "outputs": [
        {
          "output_type": "execute_result",
          "data": {
            "text/plain": [
              "9"
            ]
          },
          "metadata": {},
          "execution_count": 25
        }
      ]
    },
    {
      "cell_type": "code",
      "source": [
        "numbers[-3]"
      ],
      "metadata": {
        "colab": {
          "base_uri": "https://localhost:8080/"
        },
        "id": "vQw6znmOEKsq",
        "outputId": "741e5676-9a65-4fcf-9bb3-81eab720889b"
      },
      "execution_count": 26,
      "outputs": [
        {
          "output_type": "execute_result",
          "data": {
            "text/plain": [
              "7"
            ]
          },
          "metadata": {},
          "execution_count": 26
        }
      ]
    },
    {
      "cell_type": "code",
      "source": [
        "index=len(numbers)\n",
        "numbers[index-1]"
      ],
      "metadata": {
        "colab": {
          "base_uri": "https://localhost:8080/"
        },
        "id": "0OKgRhV5ENMz",
        "outputId": "b2aca0a4-4a68-4147-95b5-921c06d929f4"
      },
      "execution_count": 27,
      "outputs": [
        {
          "output_type": "execute_result",
          "data": {
            "text/plain": [
              "9"
            ]
          },
          "metadata": {},
          "execution_count": 27
        }
      ]
    },
    {
      "cell_type": "code",
      "source": [
        "names=['Ali','Ayşe','Gökhan','Fatma','Batur','Mehmet','Ayşegül','Abdullah']\n",
        "type(names)"
      ],
      "metadata": {
        "colab": {
          "base_uri": "https://localhost:8080/"
        },
        "id": "KIoSp7PxEQJQ",
        "outputId": "7cfcb433-9cf0-4565-a3cd-182bc696b98c"
      },
      "execution_count": 28,
      "outputs": [
        {
          "output_type": "execute_result",
          "data": {
            "text/plain": [
              "list"
            ]
          },
          "metadata": {},
          "execution_count": 28
        }
      ]
    },
    {
      "cell_type": "code",
      "source": [
        "max(names)"
      ],
      "metadata": {
        "colab": {
          "base_uri": "https://localhost:8080/",
          "height": 36
        },
        "id": "vOj_qe-LETMS",
        "outputId": "af5fcac9-4c09-4053-c972-d2e8391c1a3e"
      },
      "execution_count": 29,
      "outputs": [
        {
          "output_type": "execute_result",
          "data": {
            "text/plain": [
              "'Mehmet'"
            ],
            "application/vnd.google.colaboratory.intrinsic+json": {
              "type": "string"
            }
          },
          "metadata": {},
          "execution_count": 29
        }
      ]
    },
    {
      "cell_type": "code",
      "source": [
        "min(names)"
      ],
      "metadata": {
        "colab": {
          "base_uri": "https://localhost:8080/",
          "height": 36
        },
        "id": "4D8vamM_EXHO",
        "outputId": "9dad0be1-f550-43a1-a761-4941420caabe"
      },
      "execution_count": 30,
      "outputs": [
        {
          "output_type": "execute_result",
          "data": {
            "text/plain": [
              "'Abdullah'"
            ],
            "application/vnd.google.colaboratory.intrinsic+json": {
              "type": "string"
            }
          },
          "metadata": {},
          "execution_count": 30
        }
      ]
    },
    {
      "cell_type": "code",
      "source": [
        "'Ahmet' in names"
      ],
      "metadata": {
        "colab": {
          "base_uri": "https://localhost:8080/"
        },
        "id": "jaDr3sxUEYKr",
        "outputId": "5ce91880-439b-4780-c219-0e7fe8a8804f"
      },
      "execution_count": 31,
      "outputs": [
        {
          "output_type": "execute_result",
          "data": {
            "text/plain": [
              "False"
            ]
          },
          "metadata": {},
          "execution_count": 31
        }
      ]
    },
    {
      "cell_type": "code",
      "source": [
        "lst=[3,5,7,9,4]"
      ],
      "metadata": {
        "id": "4ZjH_fduEbm1"
      },
      "execution_count": 39,
      "outputs": []
    },
    {
      "cell_type": "code",
      "source": [
        "lst.append(1)\n",
        "print(lst)"
      ],
      "metadata": {
        "colab": {
          "base_uri": "https://localhost:8080/"
        },
        "id": "6HaZ2Be2EfP1",
        "outputId": "4a4fe36b-8aab-4760-913e-176d90de98f4"
      },
      "execution_count": 40,
      "outputs": [
        {
          "output_type": "stream",
          "name": "stdout",
          "text": [
            "[3, 5, 7, 9, 4, 1]\n"
          ]
        }
      ]
    },
    {
      "cell_type": "code",
      "source": [
        "lst.count(1)"
      ],
      "metadata": {
        "colab": {
          "base_uri": "https://localhost:8080/"
        },
        "id": "nkXIekGEEhhX",
        "outputId": "d9ca9ba9-ac89-4256-de19-72986627fcf9"
      },
      "execution_count": 41,
      "outputs": [
        {
          "output_type": "execute_result",
          "data": {
            "text/plain": [
              "1"
            ]
          },
          "metadata": {},
          "execution_count": 41
        }
      ]
    },
    {
      "cell_type": "code",
      "source": [
        "lst1=[1,2,3]"
      ],
      "metadata": {
        "id": "ShD8pKnPEjxJ"
      },
      "execution_count": 42,
      "outputs": []
    },
    {
      "cell_type": "code",
      "source": [
        "lst.append(lst1)"
      ],
      "metadata": {
        "id": "RXb6cCQCEmds"
      },
      "execution_count": 43,
      "outputs": []
    },
    {
      "cell_type": "code",
      "source": [
        "print(lst)"
      ],
      "metadata": {
        "colab": {
          "base_uri": "https://localhost:8080/"
        },
        "id": "lLPNz7BbEpO5",
        "outputId": "94ee2802-d257-457c-a025-a5ef7fc11f20"
      },
      "execution_count": 44,
      "outputs": [
        {
          "output_type": "stream",
          "name": "stdout",
          "text": [
            "[3, 5, 7, 9, 4, 1, [1, 2, 3]]\n"
          ]
        }
      ]
    },
    {
      "cell_type": "code",
      "source": [
        "lst[-1][1]"
      ],
      "metadata": {
        "colab": {
          "base_uri": "https://localhost:8080/"
        },
        "id": "8YURZPfsEuWD",
        "outputId": "64c5811e-7da7-45e1-f1c3-2eb1b565ea4c"
      },
      "execution_count": 45,
      "outputs": [
        {
          "output_type": "execute_result",
          "data": {
            "text/plain": [
              "2"
            ]
          },
          "metadata": {},
          "execution_count": 45
        }
      ]
    },
    {
      "cell_type": "code",
      "source": [
        "lst.extend(lst1)"
      ],
      "metadata": {
        "id": "Zhs_b2jMEwom"
      },
      "execution_count": 46,
      "outputs": []
    },
    {
      "cell_type": "code",
      "source": [
        "print(lst)"
      ],
      "metadata": {
        "colab": {
          "base_uri": "https://localhost:8080/"
        },
        "id": "aa7lcWU0E0hX",
        "outputId": "e46b88cd-53a3-44e0-9555-541b8e7b9a1e"
      },
      "execution_count": 47,
      "outputs": [
        {
          "output_type": "stream",
          "name": "stdout",
          "text": [
            "[3, 5, 7, 9, 4, 1, [1, 2, 3], 1, 2, 3]\n"
          ]
        }
      ]
    },
    {
      "cell_type": "code",
      "source": [
        "lst.index(1)"
      ],
      "metadata": {
        "colab": {
          "base_uri": "https://localhost:8080/"
        },
        "id": "mzd_k1jGE1YW",
        "outputId": "634b7a59-1132-4a45-cbbb-6f2fef3b653f"
      },
      "execution_count": 48,
      "outputs": [
        {
          "output_type": "execute_result",
          "data": {
            "text/plain": [
              "5"
            ]
          },
          "metadata": {},
          "execution_count": 48
        }
      ]
    },
    {
      "cell_type": "code",
      "source": [
        "lst.insert(2, 8)"
      ],
      "metadata": {
        "id": "2-VhJLKQE4T4"
      },
      "execution_count": 49,
      "outputs": []
    },
    {
      "cell_type": "code",
      "source": [
        "print(lst)"
      ],
      "metadata": {
        "colab": {
          "base_uri": "https://localhost:8080/"
        },
        "id": "XcShr2poE60M",
        "outputId": "7151bbdb-ddf8-4424-dba1-4e949d1a0f21"
      },
      "execution_count": 50,
      "outputs": [
        {
          "output_type": "stream",
          "name": "stdout",
          "text": [
            "[3, 5, 8, 7, 9, 4, 1, [1, 2, 3], 1, 2, 3]\n"
          ]
        }
      ]
    },
    {
      "cell_type": "code",
      "source": [
        "del lst[2]"
      ],
      "metadata": {
        "id": "6S46wMeHE9oa"
      },
      "execution_count": 51,
      "outputs": []
    },
    {
      "cell_type": "code",
      "source": [
        "print(lst)"
      ],
      "metadata": {
        "colab": {
          "base_uri": "https://localhost:8080/"
        },
        "id": "-OLYnPF9E_jt",
        "outputId": "7716d212-a531-4464-c8d0-af147d76c986"
      },
      "execution_count": 52,
      "outputs": [
        {
          "output_type": "stream",
          "name": "stdout",
          "text": [
            "[3, 5, 7, 9, 4, 1, [1, 2, 3], 1, 2, 3]\n"
          ]
        }
      ]
    },
    {
      "cell_type": "code",
      "source": [
        "del lst[-3]\n",
        "lst"
      ],
      "metadata": {
        "colab": {
          "base_uri": "https://localhost:8080/"
        },
        "id": "XjyySA6IFBtS",
        "outputId": "70826f8b-82d5-4e58-a42c-692a6b9ef725"
      },
      "execution_count": 53,
      "outputs": [
        {
          "output_type": "execute_result",
          "data": {
            "text/plain": [
              "[3, 5, 7, 9, 4, 1, [1, 2, 3], 2, 3]"
            ]
          },
          "metadata": {},
          "execution_count": 53
        }
      ]
    },
    {
      "cell_type": "code",
      "source": [
        "lst2=[4,8,9,6,7,2,1]\n",
        "lst2.sort()\n",
        "print(lst2)\n",
        "lst2.sort(reverse=True)\n",
        "print(lst2)"
      ],
      "metadata": {
        "colab": {
          "base_uri": "https://localhost:8080/"
        },
        "id": "Zx7u0GCaFD9C",
        "outputId": "f299f534-0b6c-487e-b45e-337ed66dcdcf"
      },
      "execution_count": 54,
      "outputs": [
        {
          "output_type": "stream",
          "name": "stdout",
          "text": [
            "[1, 2, 4, 6, 7, 8, 9]\n",
            "[9, 8, 7, 6, 4, 2, 1]\n"
          ]
        }
      ]
    },
    {
      "cell_type": "code",
      "source": [
        "sentence='Manisa Celal Bayar University'\n",
        "print(sentence)\n",
        "print(type(sentence))"
      ],
      "metadata": {
        "colab": {
          "base_uri": "https://localhost:8080/"
        },
        "id": "WU9KleqbFJ_O",
        "outputId": "9f76cd08-2431-4ac5-c8f5-9d740db926ab"
      },
      "execution_count": 55,
      "outputs": [
        {
          "output_type": "stream",
          "name": "stdout",
          "text": [
            "Manisa Celal Bayar University\n",
            "<class 'str'>\n"
          ]
        }
      ]
    },
    {
      "cell_type": "code",
      "source": [
        "print(sentence)\n",
        "print(sentence[4])\n",
        "print(sentence[4:])\n",
        "print(sentence[-10:])\n",
        "print(sentence[19:])"
      ],
      "metadata": {
        "colab": {
          "base_uri": "https://localhost:8080/"
        },
        "id": "gepNHwEgFM_Y",
        "outputId": "0cf69be0-6ac9-4b32-e2cd-76dd93a9bae8"
      },
      "execution_count": 56,
      "outputs": [
        {
          "output_type": "stream",
          "name": "stdout",
          "text": [
            "Manisa Celal Bayar University\n",
            "s\n",
            "sa Celal Bayar University\n",
            "University\n",
            "University\n"
          ]
        }
      ]
    },
    {
      "cell_type": "code",
      "source": [
        "print(sentence.find('Cel'))\n",
        "print(sentence.find('University'))\n",
        "print(sentence.find('a',6,11))"
      ],
      "metadata": {
        "colab": {
          "base_uri": "https://localhost:8080/"
        },
        "id": "Q87BnCC7FP_7",
        "outputId": "9c32a450-0cdd-4bc5-a99a-23368ee75e87"
      },
      "execution_count": 59,
      "outputs": [
        {
          "output_type": "stream",
          "name": "stdout",
          "text": [
            "7\n",
            "19\n",
            "10\n"
          ]
        }
      ]
    },
    {
      "cell_type": "code",
      "source": [
        "print(sentence.capitalize())"
      ],
      "metadata": {
        "colab": {
          "base_uri": "https://localhost:8080/"
        },
        "id": "RJG2MrGJFZ5o",
        "outputId": "7bd541d6-631a-4961-9532-9df154821418"
      },
      "execution_count": 60,
      "outputs": [
        {
          "output_type": "stream",
          "name": "stdout",
          "text": [
            "Manisa celal bayar university\n"
          ]
        }
      ]
    },
    {
      "cell_type": "code",
      "source": [
        "print(sentence.upper())\n",
        "print(sentence.lower())"
      ],
      "metadata": {
        "colab": {
          "base_uri": "https://localhost:8080/"
        },
        "id": "8h0XyNPpFcrB",
        "outputId": "daf28580-ac86-4ff3-b988-471e75c57f34"
      },
      "execution_count": 61,
      "outputs": [
        {
          "output_type": "stream",
          "name": "stdout",
          "text": [
            "MANISA CELAL BAYAR UNIVERSITY\n",
            "manisa celal bayar university\n"
          ]
        }
      ]
    },
    {
      "cell_type": "code",
      "source": [
        "sentence='MANISA Celal Bayar University'\n",
        "print(sentence.count('A'))\n",
        "print(sentence.lower().count('a'))\n",
        "print(sentence.lower().count('a',5,15))"
      ],
      "metadata": {
        "colab": {
          "base_uri": "https://localhost:8080/"
        },
        "id": "m77gfpvzFfea",
        "outputId": "64d4451e-570d-4bd0-c7b1-9b7f5b74d7fe"
      },
      "execution_count": 62,
      "outputs": [
        {
          "output_type": "stream",
          "name": "stdout",
          "text": [
            "2\n",
            "5\n",
            "3\n"
          ]
        }
      ]
    },
    {
      "cell_type": "code",
      "source": [
        "print(sentence.replace('University','Uni'))"
      ],
      "metadata": {
        "colab": {
          "base_uri": "https://localhost:8080/"
        },
        "id": "WKW4uAzjFjV6",
        "outputId": "54ea6659-bb9e-4236-e450-7354731c8b8a"
      },
      "execution_count": 63,
      "outputs": [
        {
          "output_type": "stream",
          "name": "stdout",
          "text": [
            "MANISA Celal Bayar Uni\n"
          ]
        }
      ]
    },
    {
      "cell_type": "code",
      "source": [
        "example='             Hello World     '\n",
        "print(example)"
      ],
      "metadata": {
        "colab": {
          "base_uri": "https://localhost:8080/"
        },
        "id": "Fdc8BTC3FmD2",
        "outputId": "0d9fa7e8-f2e6-45c6-cf6e-db49c46ed875"
      },
      "execution_count": 64,
      "outputs": [
        {
          "output_type": "stream",
          "name": "stdout",
          "text": [
            "             Hello World     \n"
          ]
        }
      ]
    },
    {
      "cell_type": "code",
      "source": [
        "example2=example.strip()\n",
        "print(example2)"
      ],
      "metadata": {
        "colab": {
          "base_uri": "https://localhost:8080/"
        },
        "id": "Xa3X7nSuFoXf",
        "outputId": "91ed9163-17c5-4ade-d061-3a820d5607e8"
      },
      "execution_count": 65,
      "outputs": [
        {
          "output_type": "stream",
          "name": "stdout",
          "text": [
            "Hello World\n"
          ]
        }
      ]
    },
    {
      "cell_type": "code",
      "source": [
        "example3='      ******-------Hello World-------**************     '"
      ],
      "metadata": {
        "id": "WRDKXUTrFqYf"
      },
      "execution_count": 66,
      "outputs": []
    },
    {
      "cell_type": "code",
      "source": [
        "ex4=example3.strip()\n",
        "ex4=ex4.strip('*')\n",
        "print(ex4)\n",
        "print(ex4.strip('-'))"
      ],
      "metadata": {
        "colab": {
          "base_uri": "https://localhost:8080/"
        },
        "id": "fHoE29-4FuM4",
        "outputId": "a477bf59-0fcf-4d28-dae4-622ec75f9f8e"
      },
      "execution_count": 67,
      "outputs": [
        {
          "output_type": "stream",
          "name": "stdout",
          "text": [
            "-------Hello World-------\n",
            "Hello World\n"
          ]
        }
      ]
    },
    {
      "cell_type": "code",
      "source": [
        "dictionary={} #key :value\n",
        "dictionary1=dict()\n",
        "print(type(dictionary),type(dictionary1))"
      ],
      "metadata": {
        "colab": {
          "base_uri": "https://localhost:8080/"
        },
        "id": "nKdHeDYrFwUM",
        "outputId": "9399055a-59d0-4e4a-9207-c2877d4b0230"
      },
      "execution_count": 68,
      "outputs": [
        {
          "output_type": "stream",
          "name": "stdout",
          "text": [
            "<class 'dict'> <class 'dict'>\n"
          ]
        }
      ]
    },
    {
      "cell_type": "code",
      "source": [
        "dictionary['One']=1\n",
        "dictionary['Two']=2\n",
        "print(dictionary)"
      ],
      "metadata": {
        "colab": {
          "base_uri": "https://localhost:8080/"
        },
        "id": "1cuSn-mJFzLX",
        "outputId": "ca3c352d-7644-48f2-9426-34562349165a"
      },
      "execution_count": 69,
      "outputs": [
        {
          "output_type": "stream",
          "name": "stdout",
          "text": [
            "{'One': 1, 'Two': 2}\n"
          ]
        }
      ]
    },
    {
      "cell_type": "code",
      "source": [
        "print(dictionary['One'])"
      ],
      "metadata": {
        "colab": {
          "base_uri": "https://localhost:8080/"
        },
        "id": "06Uc7QXPF3ox",
        "outputId": "6fa95e1f-e744-413f-ff12-34271424bfe7"
      },
      "execution_count": 70,
      "outputs": [
        {
          "output_type": "stream",
          "name": "stdout",
          "text": [
            "1\n"
          ]
        }
      ]
    },
    {
      "cell_type": "code",
      "source": [
        "names=['Ali','Esmar','Gül','Baran']\n",
        "numbers=[1,2,3,4]"
      ],
      "metadata": {
        "id": "BUaKyEXEF6kY"
      },
      "execution_count": 72,
      "outputs": []
    },
    {
      "cell_type": "code",
      "source": [
        "dictionary3=zip(names,numbers)\n",
        "print(type(dictionary3))\n",
        "dictionary4=dict(dictionary3)\n",
        "print(dictionary4) # key: value"
      ],
      "metadata": {
        "colab": {
          "base_uri": "https://localhost:8080/"
        },
        "id": "75o3saA3F88g",
        "outputId": "dc418568-ce19-471e-9a65-f48fa12966ea"
      },
      "execution_count": 73,
      "outputs": [
        {
          "output_type": "stream",
          "name": "stdout",
          "text": [
            "<class 'zip'>\n",
            "{'Ali': 1, 'Esmar': 2, 'Gül': 3, 'Baran': 4}\n"
          ]
        }
      ]
    },
    {
      "cell_type": "code",
      "source": [
        "#Dict ==>key,value\n",
        "dictionary4.keys()"
      ],
      "metadata": {
        "colab": {
          "base_uri": "https://localhost:8080/"
        },
        "id": "rpiE7UG-GIjA",
        "outputId": "3f9c6f79-a2dd-4e41-d7df-8121dc6f8261"
      },
      "execution_count": 74,
      "outputs": [
        {
          "output_type": "execute_result",
          "data": {
            "text/plain": [
              "dict_keys(['Ali', 'Esmar', 'Gül', 'Baran'])"
            ]
          },
          "metadata": {},
          "execution_count": 74
        }
      ]
    },
    {
      "cell_type": "code",
      "source": [
        "dictionary4.values()"
      ],
      "metadata": {
        "colab": {
          "base_uri": "https://localhost:8080/"
        },
        "id": "NqjVbQZAGJd3",
        "outputId": "908bff3e-1420-4959-b5ab-8f5ca52653ba"
      },
      "execution_count": 75,
      "outputs": [
        {
          "output_type": "execute_result",
          "data": {
            "text/plain": [
              "dict_values([1, 2, 3, 4])"
            ]
          },
          "metadata": {},
          "execution_count": 75
        }
      ]
    },
    {
      "cell_type": "code",
      "source": [
        "dictionary4.items()"
      ],
      "metadata": {
        "id": "LHEILU_rGLrl"
      },
      "execution_count": null,
      "outputs": []
    },
    {
      "cell_type": "code",
      "source": [
        "number1=15\n",
        "number2=17\n",
        "if number1>number2:\n",
        "  print('number1>number2')\n",
        "  print(number1)\n",
        "elif number1<number2: #else if==>elif\n",
        "  print('number1<number2')\n",
        "else:\n",
        "  print('number1=number2')"
      ],
      "metadata": {
        "colab": {
          "base_uri": "https://localhost:8080/"
        },
        "id": "rYvSzD9OGNpi",
        "outputId": "885008af-3ffb-4f18-abd1-52bf79c608dc"
      },
      "execution_count": 76,
      "outputs": [
        {
          "output_type": "stream",
          "name": "stdout",
          "text": [
            "number1<number2\n"
          ]
        }
      ]
    },
    {
      "cell_type": "code",
      "source": [
        "if number1>number2:\n",
        "  print('number1>number2')\n",
        "else:\n",
        "  if number1<number2:\n",
        "    print('number1<number2')\n",
        "  else:\n",
        "    print('number1=number2')"
      ],
      "metadata": {
        "colab": {
          "base_uri": "https://localhost:8080/"
        },
        "id": "khBq1NuaGRSp",
        "outputId": "e418085b-4ca5-43a8-cf46-506d1b2edcee"
      },
      "execution_count": 77,
      "outputs": [
        {
          "output_type": "stream",
          "name": "stdout",
          "text": [
            "number1<number2\n"
          ]
        }
      ]
    },
    {
      "cell_type": "code",
      "source": [
        "for item in [1,2,3,4,5,6]:\n",
        "  print(item *2)"
      ],
      "metadata": {
        "colab": {
          "base_uri": "https://localhost:8080/"
        },
        "id": "AxMp353KGUpT",
        "outputId": "bd90a077-d46b-4fc8-fd67-a0004593c6c1"
      },
      "execution_count": 78,
      "outputs": [
        {
          "output_type": "stream",
          "name": "stdout",
          "text": [
            "2\n",
            "4\n",
            "6\n",
            "8\n",
            "10\n",
            "12\n"
          ]
        }
      ]
    },
    {
      "cell_type": "code",
      "source": [
        "a=[7,8,9,10,11]\n",
        "for x in a:\n",
        "  print(x / 2)"
      ],
      "metadata": {
        "colab": {
          "base_uri": "https://localhost:8080/"
        },
        "id": "CUnRT7YdGWyf",
        "outputId": "8dd12f74-5a27-4701-b232-d5fbb44ccbf7"
      },
      "execution_count": 79,
      "outputs": [
        {
          "output_type": "stream",
          "name": "stdout",
          "text": [
            "3.5\n",
            "4.0\n",
            "4.5\n",
            "5.0\n",
            "5.5\n"
          ]
        }
      ]
    },
    {
      "cell_type": "code",
      "source": [
        "nestedList=[[1,2,3],[4,5,6],[7,8,9]]\n",
        "for list1 in nestedList:\n",
        "  for lst in list1:\n",
        "    print(lst)"
      ],
      "metadata": {
        "colab": {
          "base_uri": "https://localhost:8080/"
        },
        "id": "E-_2Q-CfGaB4",
        "outputId": "ba02defb-a41a-419e-9c1d-b71acc41a49a"
      },
      "execution_count": 80,
      "outputs": [
        {
          "output_type": "stream",
          "name": "stdout",
          "text": [
            "1\n",
            "2\n",
            "3\n",
            "4\n",
            "5\n",
            "6\n",
            "7\n",
            "8\n",
            "9\n"
          ]
        }
      ]
    },
    {
      "cell_type": "code",
      "source": [
        "nestedList=[[1,2,3],[4,5,6],[7,8,9]]\n",
        "searchedNumber=int(input('Enter Information'))\n",
        "var=0\n",
        "for list1 in nestedList:\n",
        "  for w in list1:\n",
        "    if w==searchedNumber:\n",
        "      var=1\n",
        "if var==1:\n",
        "  print('There is data in List...')\n",
        "else:\n",
        "  print('There is not data in List ..')"
      ],
      "metadata": {
        "colab": {
          "base_uri": "https://localhost:8080/"
        },
        "id": "irRf19KxGgmK",
        "outputId": "e1374404-a02f-4b6e-9883-72bb078b16da"
      },
      "execution_count": 81,
      "outputs": [
        {
          "output_type": "stream",
          "name": "stdout",
          "text": [
            "Enter Information12\n",
            "There is not data in List ..\n"
          ]
        }
      ]
    },
    {
      "cell_type": "code",
      "source": [
        "i=1\n",
        "while i<5:\n",
        "  print(i)\n",
        "  i=i+1"
      ],
      "metadata": {
        "colab": {
          "base_uri": "https://localhost:8080/"
        },
        "id": "nprMXlgQGrha",
        "outputId": "f2f9c362-470a-4519-d2eb-4dffdb8db20a"
      },
      "execution_count": 82,
      "outputs": [
        {
          "output_type": "stream",
          "name": "stdout",
          "text": [
            "1\n",
            "2\n",
            "3\n",
            "4\n"
          ]
        }
      ]
    },
    {
      "cell_type": "code",
      "source": [
        "for x in range(10):\n",
        "  print(x)\n",
        "  if x>=5:\n",
        "    break"
      ],
      "metadata": {
        "colab": {
          "base_uri": "https://localhost:8080/"
        },
        "id": "mLOusLlbGt6E",
        "outputId": "9adb81d9-6ea4-408d-ae48-85ab9e12cd23"
      },
      "execution_count": 83,
      "outputs": [
        {
          "output_type": "stream",
          "name": "stdout",
          "text": [
            "0\n",
            "1\n",
            "2\n",
            "3\n",
            "4\n",
            "5\n"
          ]
        }
      ]
    },
    {
      "cell_type": "code",
      "source": [
        "for i in range(10):#0 1 2 3 4 5 6 7 8 9\n",
        "  if i>3:\n",
        "    print('Greater')\n",
        "    continue\n",
        "  elif i<6:\n",
        "    print(i)"
      ],
      "metadata": {
        "colab": {
          "base_uri": "https://localhost:8080/"
        },
        "id": "V_oQRfYPG3Td",
        "outputId": "48182104-5cf8-40eb-c7ac-564b8167bdb0"
      },
      "execution_count": 84,
      "outputs": [
        {
          "output_type": "stream",
          "name": "stdout",
          "text": [
            "0\n",
            "1\n",
            "2\n",
            "3\n",
            "Greater\n",
            "Greater\n",
            "Greater\n",
            "Greater\n",
            "Greater\n",
            "Greater\n"
          ]
        }
      ]
    },
    {
      "cell_type": "code",
      "source": [
        "[10*x for x in range(1,5)]"
      ],
      "metadata": {
        "colab": {
          "base_uri": "https://localhost:8080/"
        },
        "id": "frWOTR7ZG7wa",
        "outputId": "7f924ca6-579e-463a-f57b-fc40dbfff3b2"
      },
      "execution_count": 85,
      "outputs": [
        {
          "output_type": "execute_result",
          "data": {
            "text/plain": [
              "[10, 20, 30, 40]"
            ]
          },
          "metadata": {},
          "execution_count": 85
        }
      ]
    },
    {
      "cell_type": "code",
      "source": [
        "[i**2 for i in range(20) if i<5]"
      ],
      "metadata": {
        "colab": {
          "base_uri": "https://localhost:8080/"
        },
        "id": "RrvtBuKaG8m1",
        "outputId": "10e2afb2-38a8-4093-9bcf-d867c6b0e93b"
      },
      "execution_count": 86,
      "outputs": [
        {
          "output_type": "execute_result",
          "data": {
            "text/plain": [
              "[0, 1, 4, 9, 16]"
            ]
          },
          "metadata": {},
          "execution_count": 86
        }
      ]
    },
    {
      "cell_type": "code",
      "source": [
        "def printMessage():\n",
        "  print('Hello World!')"
      ],
      "metadata": {
        "id": "lxrUnoRTG_9S"
      },
      "execution_count": 87,
      "outputs": []
    },
    {
      "cell_type": "code",
      "source": [
        "printMessage()"
      ],
      "metadata": {
        "colab": {
          "base_uri": "https://localhost:8080/"
        },
        "id": "MCNRG5-_HERE",
        "outputId": "04f7f2cf-db7e-4889-893f-8aa72ba80582"
      },
      "execution_count": 88,
      "outputs": [
        {
          "output_type": "stream",
          "name": "stdout",
          "text": [
            "Hello World!\n"
          ]
        }
      ]
    },
    {
      "cell_type": "code",
      "source": [
        "def helloFunc(name):\n",
        "  print(\"Hello \", name + \" Welcome..\")\n",
        "  print(name + \",\",\"How are you?\")"
      ],
      "metadata": {
        "id": "2P5_7QpSHFIU"
      },
      "execution_count": 89,
      "outputs": []
    },
    {
      "cell_type": "code",
      "source": [
        "bilgi=input('Enter Name...')\n",
        "helloFunc(bilgi)"
      ],
      "metadata": {
        "colab": {
          "base_uri": "https://localhost:8080/"
        },
        "id": "JgrXUdy6HHnW",
        "outputId": "a05f96d6-376f-45c6-d173-5180c26d8213"
      },
      "execution_count": 90,
      "outputs": [
        {
          "output_type": "stream",
          "name": "stdout",
          "text": [
            "Enter Name...Ahmet\n",
            "Hello  Ahmet Welcome..\n",
            "Ahmet, How are you?\n"
          ]
        }
      ]
    },
    {
      "cell_type": "code",
      "source": [
        "def multiple(a,b):\n",
        "  '''This function multiplies 2 numbers'''\n",
        "  result=a*b\n",
        "  return result"
      ],
      "metadata": {
        "id": "LPicHjx6HPWs"
      },
      "execution_count": 91,
      "outputs": []
    },
    {
      "cell_type": "code",
      "source": [
        "value=multiple(3,6)\n",
        "print(value)"
      ],
      "metadata": {
        "colab": {
          "base_uri": "https://localhost:8080/"
        },
        "id": "Lr5fci8XHQXS",
        "outputId": "9654f26b-f5bf-4781-a344-a039967eaa19"
      },
      "execution_count": 92,
      "outputs": [
        {
          "output_type": "stream",
          "name": "stdout",
          "text": [
            "18\n"
          ]
        }
      ]
    },
    {
      "cell_type": "code",
      "source": [
        "help(multiple)"
      ],
      "metadata": {
        "colab": {
          "base_uri": "https://localhost:8080/"
        },
        "id": "lf8ZRS-UHUXU",
        "outputId": "019c7834-5e5d-4906-fc86-95d70b3298d6"
      },
      "execution_count": 93,
      "outputs": [
        {
          "output_type": "stream",
          "name": "stdout",
          "text": [
            "Help on function multiple in module __main__:\n",
            "\n",
            "multiple(a, b)\n",
            "    This function multiplies 2 numbers\n",
            "\n"
          ]
        }
      ]
    },
    {
      "cell_type": "code",
      "source": [
        "def add(x,y,z=10):\n",
        "  return x+y+z"
      ],
      "metadata": {
        "id": "RIKLzqPHHVge"
      },
      "execution_count": 94,
      "outputs": []
    },
    {
      "cell_type": "code",
      "source": [
        "add(3,5)"
      ],
      "metadata": {
        "colab": {
          "base_uri": "https://localhost:8080/"
        },
        "id": "r-YuwRBtHbAk",
        "outputId": "3922dbbf-a163-49bb-e44e-1118606a4037"
      },
      "execution_count": 96,
      "outputs": [
        {
          "output_type": "execute_result",
          "data": {
            "text/plain": [
              "18"
            ]
          },
          "metadata": {},
          "execution_count": 96
        }
      ]
    },
    {
      "cell_type": "code",
      "source": [
        "z=lambda x:x*x"
      ],
      "metadata": {
        "id": "R1Xj2U59HdX0"
      },
      "execution_count": 97,
      "outputs": []
    },
    {
      "cell_type": "code",
      "source": [
        "z(5)"
      ],
      "metadata": {
        "colab": {
          "base_uri": "https://localhost:8080/"
        },
        "id": "99jbNiLlHklE",
        "outputId": "37a5277c-a7d4-44c2-8484-ac5edca3d1ac"
      },
      "execution_count": 98,
      "outputs": [
        {
          "output_type": "execute_result",
          "data": {
            "text/plain": [
              "25"
            ]
          },
          "metadata": {},
          "execution_count": 98
        }
      ]
    },
    {
      "cell_type": "code",
      "source": [
        "lst1=[1,2,3,4,5]"
      ],
      "metadata": {
        "id": "LnSZe6cKHliM"
      },
      "execution_count": 99,
      "outputs": []
    },
    {
      "cell_type": "code",
      "source": [
        "newLst=map(lambda x:x+2, lst1)\n",
        "print(type(newLst))\n",
        "aaa=list(newLst)\n",
        "print(aaa)"
      ],
      "metadata": {
        "colab": {
          "base_uri": "https://localhost:8080/"
        },
        "id": "JjPC7HEiHp3I",
        "outputId": "461cf603-ef8c-41f1-8a52-00310f9006c5"
      },
      "execution_count": 100,
      "outputs": [
        {
          "output_type": "stream",
          "name": "stdout",
          "text": [
            "<class 'map'>\n",
            "[3, 4, 5, 6, 7]\n"
          ]
        }
      ]
    },
    {
      "cell_type": "code",
      "source": [
        "print(list(filter(lambda x:x<4, lst1)))\n",
        "print(list(map(lambda x:x<4, lst1)))\n",
        "print(lst1)"
      ],
      "metadata": {
        "colab": {
          "base_uri": "https://localhost:8080/"
        },
        "id": "Wa5AAtmhHvYs",
        "outputId": "0bdc3d4d-9159-48bd-cedd-90e60433f1fb"
      },
      "execution_count": 101,
      "outputs": [
        {
          "output_type": "stream",
          "name": "stdout",
          "text": [
            "[1, 2, 3]\n",
            "[True, True, True, False, False]\n",
            "[1, 2, 3, 4, 5]\n"
          ]
        }
      ]
    }
  ]
}